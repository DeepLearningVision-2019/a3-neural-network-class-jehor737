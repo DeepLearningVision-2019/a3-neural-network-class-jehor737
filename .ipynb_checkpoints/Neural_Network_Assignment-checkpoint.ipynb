{
 "cells": [
  {
   "cell_type": "markdown",
   "metadata": {
    "colab_type": "text",
    "id": "_xnzfood1RC0"
   },
   "source": [
    "### Project: Create a neural network class\n",
    "\n",
    "---\n",
    "\n",
    "Based on previous code examples, develop a neural network class that is able to classify any dataset provided. The class should create objects based on the desired network architecture:\n",
    "\n",
    "1. Number of inputs\n",
    "2. Number of hidden layers\n",
    "3. Number of neurons per layer\n",
    "4. Number of outputs\n",
    "5. Learning rate\n",
    "\n",
    "The class must have the train, and predict functions.\n",
    "\n",
    "Test the neural network class on the datasets provided below: Use the input data to train the network, and then pass new inputs to predict on. Print the expected label and the predicted label for the input you used. Print the accuracy of the training after predicting on different inputs.\n",
    "\n",
    "Use matplotlib to plot the error that the train method generates.\n",
    "\n",
    "**Don't forget to install Keras and tensorflow in your environment!**\n",
    "\n",
    "---"
   ]
  },
  {
   "cell_type": "markdown",
   "metadata": {
    "colab_type": "text",
    "id": "NyKLbfH-1RC5"
   },
   "source": [
    "### Import the needed Packages"
   ]
  },
  {
   "cell_type": "code",
   "execution_count": null,
   "metadata": {
    "colab": {
     "base_uri": "https://localhost:8080/",
     "height": 34
    },
    "colab_type": "code",
    "id": "s_cm1U9N1RC7",
    "outputId": "c6cc23de-4ebe-4563-c057-6c7cf31034c2"
   },
   "outputs": [],
   "source": [
    "import numpy as np\n",
    "import matplotlib.pyplot as plt\n",
    "\n",
    "# Needed for the mnist data\n",
    "from keras.datasets import mnist\n",
    "from keras.utils import to_categorical "
   ]
  },
  {
   "cell_type": "markdown",
   "metadata": {
    "colab_type": "text",
    "id": "lcoy_65r1RDJ"
   },
   "source": [
    "### Define the class"
   ]
  },
  {
   "cell_type": "code",
   "execution_count": null,
   "metadata": {
    "colab": {},
    "colab_type": "code",
    "id": "5BUQOBlG1RDL"
   },
   "outputs": [],
   "source": [
    "np.random.seed(42)\n",
    "\n",
    "class NeuralNetwork:\n",
    "    \n",
    "    def __init__(self, architecture, alpha):\n",
    "        '''\n",
    "            layers: List of integers which represents the architecture of the network.\n",
    "            alpha:  Learning rate.\n",
    "        '''\n",
    "        # TODO: Initialize the list of weights matrices, then store\n",
    "        # the network architecture and learning rate\n",
    "        self.layers = architecture\n",
    "        self.weights = []\n",
    "        self.bias = []\n",
    "        self.architecture = architecture\n",
    "        self.alpha = alpha\n",
    "\n",
    "        for i in range(len(self.layers)-1):\n",
    "          self.weights.append(np.random.randn(self.architecture[i], self.architecture[i+1]))\n",
    "          self.bias.append(np.random.randn(self.architecture[i+1]))\n",
    "    \n",
    "            \n",
    "    def __repr__(self): \n",
    "        # construct and return a string that represents the network \n",
    "        # architecture \n",
    "        return \"NeuralNetwork: {}\".format( \"-\".join(str(l) for l in self.layers))\n",
    "\n",
    "    def softmax(self, X):  \n",
    "        # applies the softmax function to a set of values\n",
    "        \n",
    "        expX = np.exp(X)\n",
    "        return expX / expX.sum(axis=1, keepdims=True)\n",
    "        \n",
    "    def sigmoid(self, x):\n",
    "        # the sigmoid for a given input value\n",
    "        \n",
    "        return 1.0 / (1.0 + np.exp(-x))\n",
    "    \n",
    "    def sigmoid_deriv(self, x):\n",
    "        # the derivative of the sigmoid\n",
    "        \n",
    "        return x * (1 - x)\n",
    "    \n",
    "    def predict(self, inputs):\n",
    "        # TODO: Define the predict function\n",
    "        level = inputs\n",
    "        y = []\n",
    "        y.append(level)\n",
    "        for i in range(len(self.weights)-1):\n",
    "          #print(i)\n",
    "          level = self.sigmoid(np.dot(level,self.weights[i])+self.bias[i])\n",
    "          y.append(level)\n",
    "          \n",
    "        if self.layers[-1] > 1:\n",
    "          level = self.softmax(np.dot(level,self.weights[-1])+self.bias[-1])\n",
    "          y.append(level)\n",
    "        elif self.layers[-1] == 1:\n",
    "          level = self.sigmoid(np.dot(level,self.weights[-1])+self.bias[-1])\n",
    "          y.append(level)\n",
    "        return y\n",
    "        \n",
    "    def train(self, inputs, labels, epochs = 1000, displayUpdate = 100):\n",
    "        # TODO: Define the training step for the network. It should include the forward and back propagation\n",
    "        # steps, the updating of the weights, and it should print the error every 'displayUpdate' epochs\n",
    "        # It must return the errors so that they can be displayed with matplotlib\n",
    "        errors = []\n",
    "        bias_delta=[]\n",
    "        deltas = []\n",
    "        y = []\n",
    "        for epoch in range(epochs):\n",
    "          #Forward\n",
    "          y = self.predict(inputs)\n",
    "          last_level_error = labels - y[-1]\n",
    "          #print(\"Error: \",last_level_error)\n",
    "          errors.append(np.average(np.abs(last_level_error)))\n",
    "          \n",
    "          if epoch % displayUpdate == 0:\n",
    "            print(\"Error:\", np.mean(np.abs(last_level_error)))\n",
    "          \n",
    "          delta_last = last_level_error * self.sigmoid_deriv(y[-1])\n",
    "          bias_delta.append(np.sum(delta_last))\n",
    "          deltas.append(delta_last)\n",
    "          #Backward\n",
    "          for i in range(len(y)-2,0,-1):\n",
    "            error_next = np.dot(deltas[-1],self.weights[i].T)\n",
    "            new_delta = error_next * self.sigmoid_deriv(y[i])\n",
    "            deltas.append(new_delta)\n",
    "            bias_delta.append(np.sum(new_delta))\n",
    "          \n",
    "          bias_delta.reverse()\n",
    "          deltas.reverse()\n",
    "          #Update weights  \n",
    "          for i in range(len(self.weights)):\n",
    "            self.weights[i] += np.dot(y[i].T,deltas[i])*self.alpha\n",
    "            self.bias[i] += bias_delta[i]*self.alpha\n",
    "        \n",
    "        print(y[-1])\n",
    "        f, ax = plt.subplots(1,1)\n",
    "        ax.set_xlabel(\"Epoch\")\n",
    "        ax.set_ylabel(\"Error\")\n",
    "        ax.plot(errors)"
   ]
  },
  {
   "cell_type": "markdown",
   "metadata": {
    "colab_type": "text",
    "id": "q56DehSM1RDR"
   },
   "source": [
    "### Test datasets"
   ]
  },
  {
   "cell_type": "markdown",
   "metadata": {
    "colab_type": "text",
    "id": "o--EwK1c1RDT"
   },
   "source": [
    "#### XOR"
   ]
  },
  {
   "cell_type": "code",
   "execution_count": null,
   "metadata": {
    "colab": {},
    "colab_type": "code",
    "id": "lltvlh0b1RDV"
   },
   "outputs": [],
   "source": [
    "# input dataset\n",
    "XOR_inputs = np.array([  \n",
    "                [0,0],\n",
    "                [0,1],\n",
    "                [1,0],\n",
    "                [1,1]\n",
    "            ])\n",
    "\n",
    "# labels dataset            \n",
    "XOR_labels = np.array([[0,1,1,0]]).T"
   ]
  },
  {
   "cell_type": "code",
   "execution_count": null,
   "metadata": {
    "colab": {
     "base_uri": "https://localhost:8080/",
     "height": 1268
    },
    "colab_type": "code",
    "id": "Uo0lpgOt1RDb",
    "outputId": "eb583c9f-266f-439a-fc24-b79483d15786"
   },
   "outputs": [],
   "source": [
    "#TODO: Test the class with the XOR data\n",
    "network = NeuralNetwork([XOR_inputs.shape[1],3,3,1],5)\n",
    "network.__repr__()\n",
    "network.train(XOR_inputs,XOR_labels,5000)"
   ]
  },
  {
   "cell_type": "markdown",
   "metadata": {
    "colab_type": "text",
    "id": "tNckaFKk1RDg"
   },
   "source": [
    "#### Multiple classes"
   ]
  },
  {
   "cell_type": "code",
   "execution_count": null,
   "metadata": {
    "colab": {
     "base_uri": "https://localhost:8080/",
     "height": 592
    },
    "colab_type": "code",
    "id": "R5vOKgvo1RDj",
    "outputId": "869db295-ed36-45b6-f8cf-9e91ca0dda69"
   },
   "outputs": [],
   "source": [
    "# Creates the data points for each class\n",
    "class_1 = np.random.randn(700, 2) + np.array([0, -3])  \n",
    "class_2 = np.random.randn(700, 2) + np.array([3, 3])  \n",
    "class_3 = np.random.randn(700, 2) + np.array([-3, 3])\n",
    "\n",
    "feature_set = np.vstack([class_1, class_2, class_3])\n",
    "\n",
    "labels = np.array([0]*700 + [1]*700 + [2]*700)\n",
    "\n",
    "one_hot_labels = np.zeros((2100, 3))\n",
    "\n",
    "for i in range(2100):  \n",
    "    one_hot_labels[i, labels[i]] = 1\n",
    "\n",
    "plt.figure(figsize=(10,10))  \n",
    "plt.scatter(feature_set[:,0], feature_set[:,1], c=labels, s=30, alpha=0.5)  \n",
    "plt.show()"
   ]
  },
  {
   "cell_type": "code",
   "execution_count": null,
   "metadata": {
    "colab": {
     "base_uri": "https://localhost:8080/",
     "height": 646
    },
    "colab_type": "code",
    "id": "GZtYc1qJ1RDr",
    "outputId": "4d57fe72-aa73-4859-ee29-367d77ba7565"
   },
   "outputs": [],
   "source": [
    "#TODO: Test the class with the multiple classes data\n",
    "\n",
    "network_2 = NeuralNetwork([feature_set.shape[1],3,3],0.01)\n",
    "\n",
    "network_2.train(feature_set,one_hot_labels)"
   ]
  },
  {
   "cell_type": "markdown",
   "metadata": {
    "colab_type": "text",
    "id": "zpffTinf1RDx"
   },
   "source": [
    "#### On the mnist data set\n",
    "\n",
    "---\n",
    "Train the network to classify hand drawn digits.\n",
    "\n",
    "For this data set, if the training step is taking too long, you can try to adjust the architecture of the network to have fewer layers, or you could try to train it with fewer input. The data has already been loaded and preprocesed so that it can be used with the network.\n",
    "\n",
    "---"
   ]
  },
  {
   "cell_type": "code",
   "execution_count": null,
   "metadata": {
    "colab": {
     "base_uri": "https://localhost:8080/",
     "height": 378
    },
    "colab_type": "code",
    "id": "O37sxX3R1RDz",
    "outputId": "7499c8bf-b397-4ba5-ad6d-f4353d59c2dd"
   },
   "outputs": [],
   "source": [
    "# Load the train and test data from the mnist data set\n",
    "(train_images, train_labels), (test_images, test_labels) = mnist.load_data()\n",
    "\n",
    "# Plot a sample data point\n",
    "plt.title(\"Label: \" + str(train_labels[0]))\n",
    "plt.imshow(train_images[0], cmap=\"gray\")"
   ]
  },
  {
   "cell_type": "code",
   "execution_count": null,
   "metadata": {
    "colab": {},
    "colab_type": "code",
    "id": "fzgegbHR1RD6"
   },
   "outputs": [],
   "source": [
    "# Standardize the data\n",
    "\n",
    "# Flatten the images\n",
    "train_images = train_images.reshape((60000, 28 * 28))\n",
    "# turn values from 0-255 to 0-1\n",
    "train_images = train_images.astype('float32') / 255 \n",
    "\n",
    "test_images = test_images.reshape((10000, 28 * 28)) \n",
    "test_images = test_images.astype('float32') / 255\n",
    "\n",
    "# Create one hot encoding for the labels\n",
    "train_labels = to_categorical(train_labels) \n",
    "test_labels = to_categorical(test_labels)"
   ]
  },
  {
   "cell_type": "code",
   "execution_count": null,
   "metadata": {
    "colab": {
     "base_uri": "https://localhost:8080/",
     "height": 363
    },
    "colab_type": "code",
    "id": "t3lI1Yze1RD_",
    "outputId": "31ca3799-6d1f-4dd9-fcd5-646d9e29aa6d"
   },
   "outputs": [],
   "source": [
    "# TODO: Test the class with the mnist data. Test the training of the network with the test_images data, and \n",
    "# record the accuracy of the classification.\n",
    "print(train_images.shape)\n",
    "network_3 = NeuralNetwork([train_images.shape[1],64,32,10],0.001)\n",
    "network_3.train(train_images, train_labels)"
   ]
  },
  {
   "cell_type": "markdown",
   "metadata": {
    "colab_type": "text",
    "id": "IY00NICA1REE"
   },
   "source": [
    "After predicting on the *test_images*, use matplotlib to display some of the images that were not correctly classified. Then, answer the following questions: \n",
    "\n",
    "1. **Why do you think those were incorrectly classified?**\n",
    "2. **What could you try doing to improve the classification accuracy?**\n"
   ]
  }
 ],
 "metadata": {
  "colab": {
   "collapsed_sections": [],
   "name": "Neural Network Assignment.ipynb",
   "provenance": [],
   "version": "0.3.2"
  },
  "kernelspec": {
   "display_name": "Python 3",
   "language": "python",
   "name": "python3"
  },
  "language_info": {
   "codemirror_mode": {
    "name": "ipython",
    "version": 3
   },
   "file_extension": ".py",
   "mimetype": "text/x-python",
   "name": "python",
   "nbconvert_exporter": "python",
   "pygments_lexer": "ipython3",
   "version": "3.6.8"
  }
 },
 "nbformat": 4,
 "nbformat_minor": 1
}
